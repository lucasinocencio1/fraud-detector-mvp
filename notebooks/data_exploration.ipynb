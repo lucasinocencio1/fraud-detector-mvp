{
  "cells": [
    {
      "cell_type": "markdown",
      "metadata": {},
      "source": [
        "# 📊 Análise Exploratória dos Dados de Transações\n",
        "\n",
        "Este notebook explora os dados sintéticos de transações para entender padrões de fraude e características dos dados.\n"
      ]
    },
    {
      "cell_type": "code",
      "execution_count": null,
      "metadata": {},
      "outputs": [
        {
          "ename": "ModuleNotFoundError",
          "evalue": "No module named 'seaborn'",
          "output_type": "error",
          "traceback": [
            "\u001b[31m---------------------------------------------------------------------------\u001b[39m",
            "\u001b[31mModuleNotFoundError\u001b[39m                       Traceback (most recent call last)",
            "\u001b[36mCell\u001b[39m\u001b[36m \u001b[39m\u001b[32mIn[4]\u001b[39m\u001b[32m, line 5\u001b[39m\n\u001b[32m      3\u001b[39m \u001b[38;5;28;01mimport\u001b[39;00m\u001b[38;5;250m \u001b[39m\u001b[34;01mnumpy\u001b[39;00m\u001b[38;5;250m \u001b[39m\u001b[38;5;28;01mas\u001b[39;00m\u001b[38;5;250m \u001b[39m\u001b[34;01mnp\u001b[39;00m\n\u001b[32m      4\u001b[39m \u001b[38;5;66;03m#import matplotlib.pyplot as plt\u001b[39;00m\n\u001b[32m----> \u001b[39m\u001b[32m5\u001b[39m \u001b[38;5;28;01mimport\u001b[39;00m\u001b[38;5;250m \u001b[39m\u001b[34;01mseaborn\u001b[39;00m\u001b[38;5;250m \u001b[39m\u001b[38;5;28;01mas\u001b[39;00m\u001b[38;5;250m \u001b[39m\u001b[34;01msns\u001b[39;00m\n\u001b[32m      6\u001b[39m \u001b[38;5;28;01mfrom\u001b[39;00m\u001b[38;5;250m \u001b[39m\u001b[34;01mpathlib\u001b[39;00m\u001b[38;5;250m \u001b[39m\u001b[38;5;28;01mimport\u001b[39;00m Path\n\u001b[32m      7\u001b[39m \u001b[38;5;28;01mimport\u001b[39;00m\u001b[38;5;250m \u001b[39m\u001b[34;01mwarnings\u001b[39;00m\n",
            "\u001b[31mModuleNotFoundError\u001b[39m: No module named 'seaborn'"
          ]
        }
      ],
      "source": [
        "# Importações necessárias\n",
        "import pandas as pd\n",
        "import numpy as np\n",
        "import matplotlib.pyplot as plt\n",
        "import seaborn as sns\n",
        "from pathlib import Path\n",
        "import warnings\n",
        "warnings.filterwarnings('ignore')\n",
        "\n",
        "# Configurações de visualização\n",
        "plt.style.use('seaborn-v0_8')\n",
        "sns.set_palette(\"husl\")\n",
        "plt.rcParams['figure.figsize'] = (12, 8)\n",
        "plt.rcParams['font.size'] = 10\n"
      ]
    },
    {
      "cell_type": "markdown",
      "metadata": {},
      "source": [
        "## 📁 Carregamento dos Dados\n"
      ]
    },
    {
      "cell_type": "code",
      "execution_count": null,
      "metadata": {},
      "outputs": [],
      "source": [
        "# Carregar dados de transações\n",
        "df = pd.read_csv('../data/transactions_synth.csv')\n",
        "\n",
        "print(f\"📊 Dataset carregado: {len(df):,} transações\")\n",
        "print(f\"📅 Período: {df['Time'].min()} a {df['Time'].max()}\")\n",
        "print(f\"💰 Valor médio: R$ {df['Amount'].mean():.2f}\")\n",
        "print(f\"🎯 Taxa de fraude: {df['Class'].mean():.3%}\")\n",
        "\n",
        "df.head()\n"
      ]
    },
    {
      "cell_type": "markdown",
      "metadata": {},
      "source": [
        "## 🔍 Informações Básicas do Dataset\n"
      ]
    },
    {
      "cell_type": "code",
      "execution_count": null,
      "metadata": {},
      "outputs": [],
      "source": [
        "# Informações gerais\n",
        "print(\"📋 Informações do Dataset:\")\n",
        "print(f\"• Dimensões: {df.shape[0]:,} linhas × {df.shape[1]} colunas\")\n",
        "print(f\"• Memória: {df.memory_usage(deep=True).sum() / 1024**2:.1f} MB\")\n",
        "print(f\"• Valores nulos: {df.isnull().sum().sum()}\")\n",
        "\n",
        "print(\"\\n📊 Tipos de dados:\")\n",
        "print(df.dtypes.value_counts())\n",
        "\n",
        "print(\"\\n🎯 Distribuição da classe:\")\n",
        "print(df['Class'].value_counts())\n",
        "print(f\"Proporção de fraudes: {df['Class'].mean():.3%}\")\n"
      ]
    },
    {
      "cell_type": "markdown",
      "metadata": {},
      "source": [
        "## 📈 Análise da Variável Target (Class)\n"
      ]
    },
    {
      "cell_type": "code",
      "execution_count": null,
      "metadata": {},
      "outputs": [],
      "source": [
        "# Visualização da distribuição de classes\n",
        "fig, axes = plt.subplots(1, 2, figsize=(15, 6))\n",
        "\n",
        "# Gráfico de barras\n",
        "class_counts = df['Class'].value_counts()\n",
        "axes[0].bar(['Normal (0)', 'Fraude (1)'], class_counts.values, \n",
        "           color=['lightblue', 'salmon'], alpha=0.7)\n",
        "axes[0].set_title('Distribuição de Classes', fontsize=14, fontweight='bold')\n",
        "axes[0].set_ylabel('Número de Transações')\n",
        "\n",
        "# Adicionar valores nas barras\n",
        "for i, v in enumerate(class_counts.values):\n",
        "    axes[0].text(i, v + 1000, f'{v:,}', ha='center', fontweight='bold')\n",
        "\n",
        "# Gráfico de pizza\n",
        "fraud_pct = df['Class'].mean() * 100\n",
        "normal_pct = 100 - fraud_pct\n",
        "axes[1].pie([normal_pct, fraud_pct], \n",
        "           labels=[f'Normal ({normal_pct:.1f}%)', f'Fraude ({fraud_pct:.1f}%)'],\n",
        "           colors=['lightblue', 'salmon'], \n",
        "           autopct='%1.1f%%', startangle=90)\n",
        "axes[1].set_title('Proporção de Classes', fontsize=14, fontweight='bold')\n",
        "\n",
        "plt.tight_layout()\n",
        "plt.show()\n",
        "\n",
        "print(f\"⚠️  Dataset altamente desbalanceado: {fraud_pct:.2f}% de fraudes\")\n"
      ]
    },
    {
      "cell_type": "markdown",
      "metadata": {},
      "source": [
        "## 💰 Análise da Variável Amount\n"
      ]
    },
    {
      "cell_type": "code",
      "execution_count": null,
      "metadata": {},
      "outputs": [],
      "source": [
        "# Estatísticas descritivas do Amount\n",
        "print(\"💰 Estatísticas do Amount:\")\n",
        "print(df['Amount'].describe())\n",
        "\n",
        "# Análise por classe\n",
        "print(\"\\n📊 Amount por classe:\")\n",
        "amount_by_class = df.groupby('Class')['Amount'].agg(['count', 'mean', 'std', 'min', 'max'])\n",
        "print(amount_by_class)\n"
      ]
    },
    {
      "cell_type": "code",
      "execution_count": null,
      "metadata": {},
      "outputs": [],
      "source": [
        "# Visualização da distribuição do Amount\n",
        "fig, axes = plt.subplots(2, 2, figsize=(15, 12))\n",
        "\n",
        "# Histograma geral\n",
        "axes[0,0].hist(df['Amount'], bins=50, alpha=0.7, color='skyblue', edgecolor='black')\n",
        "axes[0,0].set_title('Distribuição do Amount (Todos)', fontweight='bold')\n",
        "axes[0,0].set_xlabel('Amount')\n",
        "axes[0,0].set_ylabel('Frequência')\n",
        "\n",
        "# Histograma por classe\n",
        "normal_amounts = df[df['Class'] == 0]['Amount']\n",
        "fraud_amounts = df[df['Class'] == 1]['Amount']\n",
        "\n",
        "axes[0,1].hist(normal_amounts, bins=50, alpha=0.7, label='Normal', color='lightblue')\n",
        "axes[0,1].hist(fraud_amounts, bins=50, alpha=0.7, label='Fraude', color='salmon')\n",
        "axes[0,1].set_title('Distribuição do Amount por Classe', fontweight='bold')\n",
        "axes[0,1].set_xlabel('Amount')\n",
        "axes[0,1].set_ylabel('Frequência')\n",
        "axes[0,1].legend()\n",
        "\n",
        "# Box plot\n",
        "df.boxplot(column='Amount', by='Class', ax=axes[1,0])\n",
        "axes[1,0].set_title('Box Plot: Amount por Classe', fontweight='bold')\n",
        "axes[1,0].set_xlabel('Classe')\n",
        "axes[1,0].set_ylabel('Amount')\n",
        "\n",
        "# Log scale para melhor visualização\n",
        "axes[1,1].hist(np.log1p(normal_amounts), bins=50, alpha=0.7, label='Normal', color='lightblue')\n",
        "axes[1,1].hist(np.log1p(fraud_amounts), bins=50, alpha=0.7, label='Fraude', color='salmon')\n",
        "axes[1,1].set_title('Distribuição do Amount (Log Scale)', fontweight='bold')\n",
        "axes[1,1].set_xlabel('log(Amount + 1)')\n",
        "axes[1,1].set_ylabel('Frequência')\n",
        "axes[1,1].legend()\n",
        "\n",
        "plt.tight_layout()\n",
        "plt.show()\n"
      ]
    },
    {
      "cell_type": "markdown",
      "metadata": {},
      "source": [
        "## 🔢 Análise das Features V1-V28\n"
      ]
    },
    {
      "cell_type": "code",
      "execution_count": null,
      "metadata": {},
      "outputs": [
        {
          "ename": "",
          "evalue": "",
          "output_type": "error",
          "traceback": [
            "\u001b[1;31mRunning cells with 'Python 3.13.5' requires the ipykernel package.\n",
            "\u001b[1;31mInstall 'ipykernel' into the Python environment. \n",
            "\u001b[1;31mCommand: '/opt/homebrew/bin/python3 -m pip install ipykernel -U --user --force-reinstall'"
          ]
        }
      ],
      "source": [
        "# Selecionar apenas as features V1-V28\n",
        "v_features = [f'V{i}' for i in range(1, 29)]\n",
        "df_v = df[v_features]\n",
        "\n",
        "print(\"🔢 Estatísticas das Features V1-V28:\")\n",
        "print(f\"• Média geral: {df_v.mean().mean():.4f}\")\n",
        "print(f\"• Desvio padrão médio: {df_v.std().mean():.4f}\")\n",
        "print(f\"• Range médio: {df_v.max().max() - df_v.min().min():.4f}\")\n",
        "\n",
        "# Verificar se há correlação entre features\n",
        "correlation_matrix = df_v.corr()\n",
        "print(f\"\\n📊 Correlação média entre features: {correlation_matrix.values[np.triu_indices_from(correlation_matrix.values, k=1)].mean():.4f}\")\n"
      ]
    },
    {
      "cell_type": "code",
      "execution_count": null,
      "metadata": {},
      "outputs": [],
      "source": [
        "# Visualização das features V1-V28\n",
        "fig, axes = plt.subplots(2, 2, figsize=(15, 12))\n",
        "\n",
        "# Distribuição das primeiras 8 features\n",
        "df_v.iloc[:, :8].hist(bins=30, ax=axes[0,0], alpha=0.7)\n",
        "axes[0,0].set_title('Distribuição das Features V1-V8', fontweight='bold')\n",
        "\n",
        "# Distribuição das últimas 8 features\n",
        "df_v.iloc[:, -8:].hist(bins=30, ax=axes[0,1], alpha=0.7)\n",
        "axes[0,1].set_title('Distribuição das Features V21-V28', fontweight='bold')\n",
        "\n",
        "# Box plot das features por classe (amostra)\n",
        "sample_features = ['V1', 'V2', 'V3', 'V4', 'V5']\n",
        "df_sample = df[['Class'] + sample_features]\n",
        "df_melted = df_sample.melt(id_vars=['Class'], var_name='Feature', value_name='Value')\n",
        "\n",
        "sns.boxplot(data=df_melted, x='Feature', y='Value', hue='Class', ax=axes[1,0])\n",
        "axes[1,0].set_title('Box Plot: Features V1-V5 por Classe', fontweight='bold')\n",
        "axes[1,0].tick_params(axis='x', rotation=45)\n",
        "\n",
        "# Heatmap de correlação (amostra)\n",
        "sample_corr = df_v.iloc[:, :10].corr()\n",
        "sns.heatmap(sample_corr, annot=True, cmap='coolwarm', center=0, ax=axes[1,1])\n",
        "axes[1,1].set_title('Matriz de Correlação (V1-V10)', fontweight='bold')\n",
        "\n",
        "plt.tight_layout()\n",
        "plt.show()\n"
      ]
    },
    {
      "cell_type": "markdown",
      "metadata": {},
      "source": [
        "## ⏰ Análise Temporal\n"
      ]
    },
    {
      "cell_type": "code",
      "execution_count": null,
      "metadata": {},
      "outputs": [
        {
          "ename": "",
          "evalue": "",
          "output_type": "error",
          "traceback": [
            "\u001b[1;31mRunning cells with 'Python 3.13.5' requires the ipykernel package.\n",
            "\u001b[1;31mInstall 'ipykernel' into the Python environment. \n",
            "\u001b[1;31mCommand: '/opt/homebrew/bin/python3 -m pip install ipykernel -U --user --force-reinstall'"
          ]
        }
      ],
      "source": [
        "# Análise temporal das fraudes\n",
        "fig, axes = plt.subplots(2, 2, figsize=(15, 10))\n",
        "\n",
        "# Fraudes ao longo do tempo\n",
        "fraud_timeline = df.groupby('Time')['Class'].sum()\n",
        "axes[0,0].plot(fraud_timeline.index, fraud_timeline.values, alpha=0.7, color='red')\n",
        "axes[0,0].set_title('Fraudes ao Longo do Tempo', fontweight='bold')\n",
        "axes[0,0].set_xlabel('Tempo')\n",
        "axes[0,0].set_ylabel('Número de Fraudes')\n",
        "\n",
        "# Taxa de fraude por janela temporal\n",
        "window_size = 1000\n",
        "fraud_rate_timeline = df.groupby(df['Time'] // window_size)['Class'].mean()\n",
        "axes[0,1].plot(fraud_rate_timeline.index * window_size, fraud_rate_timeline.values, \n",
        "               marker='o', alpha=0.7, color='darkred')\n",
        "axes[0,1].set_title(f'Taxa de Fraude por Janela ({window_size} transações)', fontweight='bold')\n",
        "axes[0,1].set_xlabel('Tempo')\n",
        "axes[0,1].set_ylabel('Taxa de Fraude')\n",
        "\n",
        "# Distribuição de Amount ao longo do tempo\n",
        "time_bins = pd.cut(df['Time'], bins=20)\n",
        "amount_by_time = df.groupby(time_bins)['Amount'].mean()\n",
        "axes[1,0].bar(range(len(amount_by_time)), amount_by_time.values, alpha=0.7, color='skyblue')\n",
        "axes[1,0].set_title('Amount Médio por Período', fontweight='bold')\n",
        "axes[1,0].set_xlabel('Período')\n",
        "axes[1,0].set_ylabel('Amount Médio')\n",
        "\n",
        "# Scatter plot: Amount vs Time (amostra)\n",
        "sample_df = df.sample(n=5000, random_state=42)\n",
        "colors = ['blue' if x == 0 else 'red' for x in sample_df['Class']]\n",
        "axes[1,1].scatter(sample_df['Time'], sample_df['Amount'], c=colors, alpha=0.5, s=1)\n",
        "axes[1,1].set_title('Amount vs Tempo (Amostra)', fontweight='bold')\n",
        "axes[1,1].set_xlabel('Tempo')\n",
        "axes[1,1].set_ylabel('Amount')\n",
        "\n",
        "plt.tight_layout()\n",
        "plt.show()\n"
      ]
    },
    {
      "cell_type": "markdown",
      "metadata": {},
      "source": [
        "## 🎯 Análise de Padrões de Fraude\n"
      ]
    },
    {
      "cell_type": "code",
      "execution_count": null,
      "metadata": {},
      "outputs": [],
      "source": [
        "# Comparação entre transações normais e fraudulentas\n",
        "normal_df = df[df['Class'] == 0]\n",
        "fraud_df = df[df['Class'] == 1]\n",
        "\n",
        "print(\"🔍 Comparação entre Transações Normais e Fraudulentas:\")\n",
        "print(f\"\\n📊 Estatísticas do Amount:\")\n",
        "print(f\"• Normal - Média: R$ {normal_df['Amount'].mean():.2f}, Mediana: R$ {normal_df['Amount'].median():.2f}\")\n",
        "print(f\"• Fraude - Média: R$ {fraud_df['Amount'].mean():.2f}, Mediana: R$ {fraud_df['Amount'].median():.2f}\")\n",
        "\n",
        "print(f\"\\n🔢 Estatísticas das Features V:\")\n",
        "for i in range(1, 6):  # Primeiras 5 features\n",
        "    v_col = f'V{i}'\n",
        "    normal_mean = normal_df[v_col].mean()\n",
        "    fraud_mean = fraud_df[v_col].mean()\n",
        "    print(f\"• {v_col} - Normal: {normal_mean:.3f}, Fraude: {fraud_mean:.3f}\")\n"
      ]
    },
    {
      "cell_type": "code",
      "execution_count": null,
      "metadata": {},
      "outputs": [],
      "source": [
        "# Visualização de padrões de fraude\n",
        "fig, axes = plt.subplots(2, 2, figsize=(15, 10))\n",
        "\n",
        "# Amount vs V1 (colored by class)\n",
        "sample_df = df.sample(n=3000, random_state=42)\n",
        "colors = ['blue' if x == 0 else 'red' for x in sample_df['Class']]\n",
        "axes[0,0].scatter(sample_df['V1'], sample_df['Amount'], c=colors, alpha=0.6, s=10)\n",
        "axes[0,0].set_title('Amount vs V1 (Azul=Normal, Vermelho=Fraude)', fontweight='bold')\n",
        "axes[0,0].set_xlabel('V1')\n",
        "axes[0,0].set_ylabel('Amount')\n",
        "\n",
        "# V1 vs V2 (colored by class)\n",
        "axes[0,1].scatter(sample_df['V1'], sample_df['V2'], c=colors, alpha=0.6, s=10)\n",
        "axes[0,1].set_title('V1 vs V2 (Azul=Normal, Vermelho=Fraude)', fontweight='bold')\n",
        "axes[0,1].set_xlabel('V1')\n",
        "axes[0,1].set_ylabel('V2')\n",
        "\n",
        "# Distribuição de Amount por classe (violin plot)\n",
        "sns.violinplot(data=df, x='Class', y='Amount', ax=axes[1,0])\n",
        "axes[1,0].set_title('Distribuição do Amount por Classe', fontweight='bold')\n",
        "axes[1,0].set_xlabel('Classe')\n",
        "axes[1,0].set_ylabel('Amount')\n",
        "\n",
        "# Distribuição de V1 por classe\n",
        "sns.violinplot(data=df, x='Class', y='V1', ax=axes[1,1])\n",
        "axes[1,1].set_title('Distribuição do V1 por Classe', fontweight='bold')\n",
        "axes[1,1].set_xlabel('Classe')\n",
        "axes[1,1].set_ylabel('V1')\n",
        "\n",
        "plt.tight_layout()\n",
        "plt.show()\n"
      ]
    },
    {
      "cell_type": "markdown",
      "metadata": {},
      "source": [
        "## 📊 Resumo e Insights\n"
      ]
    },
    {
      "cell_type": "code",
      "execution_count": null,
      "metadata": {},
      "outputs": [],
      "source": [
        "# Resumo final\n",
        "print(\"📋 RESUMO DA ANÁLISE EXPLORATÓRIA\")\n",
        "print(\"=\" * 50)\n",
        "\n",
        "print(f\"\\n📊 Dataset:\")\n",
        "print(f\"• Total de transações: {len(df):,}\")\n",
        "print(f\"• Período temporal: {df['Time'].min()} a {df['Time'].max()}\")\n",
        "print(f\"• Taxa de fraude: {df['Class'].mean():.3%}\")\n",
        "print(f\"• Valor médio das transações: R$ {df['Amount'].mean():.2f}\")\n",
        "\n",
        "print(f\"\\n💰 Amount:\")\n",
        "print(f\"• Range: R$ {df['Amount'].min():.2f} a R$ {df['Amount'].max():.2f}\")\n",
        "print(f\"• Desvio padrão: R$ {df['Amount'].std():.2f}\")\n",
        "print(f\"• Mediana: R$ {df['Amount'].median():.2f}\")\n",
        "\n",
        "print(f\"\\n🔢 Features V1-V28:\")\n",
        "print(f\"• Distribuição: Normal (média ≈ 0, std ≈ 1)\")\n",
        "print(f\"• Correlação média: {df[v_features].corr().values[np.triu_indices_from(df[v_features].corr().values, k=1)].mean():.4f}\")\n",
        "\n",
        "print(f\"\\n🎯 Padrões de Fraude:\")\n",
        "print(f\"• Amount médio (fraude): R$ {fraud_df['Amount'].mean():.2f}\")\n",
        "print(f\"• Amount médio (normal): R$ {normal_df['Amount'].mean():.2f}\")\n",
        "print(f\"• Diferença: {((fraud_df['Amount'].mean() - normal_df['Amount'].mean()) / normal_df['Amount'].mean() * 100):+.1f}%\")\n",
        "\n",
        "print(f\"\\n⚠️  Desafios:\")\n",
        "print(f\"• Dataset altamente desbalanceado ({df['Class'].mean():.3%} de fraudes)\")\n",
        "print(f\"• Necessário usar métricas adequadas (AUPRC, Precision@K)\")\n",
        "print(f\"• Features V1-V28 são anonimizadas (PCA-like)\")\n",
        "\n",
        "print(f\"\\n✅ Próximos Passos:\")\n",
        "print(f\"• Implementar features mais sofisticadas\")\n",
        "print(f\"• Testar diferentes algoritmos (XGBoost, IsolationForest, Autoencoder)\")\n",
        "print(f\"• Otimizar threshold baseado em custo\")\n",
        "print(f\"• Implementar monitoramento de drift\")\n"
      ]
    },
    {
      "cell_type": "markdown",
      "metadata": {},
      "source": [
        "## 🔧 Features Engineering Sugeridas\n",
        "\n",
        "Baseado na análise, aqui estão algumas features que podem melhorar a performance do modelo:\n"
      ]
    },
    {
      "cell_type": "code",
      "execution_count": null,
      "metadata": {},
      "outputs": [],
      "source": [
        "# Exemplo de features engineering\n",
        "def create_advanced_features(df):\n",
        "    \"\"\"\n",
        "    Cria features mais sofisticadas baseadas na análise exploratória\n",
        "    \"\"\"\n",
        "    df_feat = df.copy()\n",
        "    \n",
        "    # Features de Amount\n",
        "    df_feat['Amount_log'] = np.log1p(df_feat['Amount'])\n",
        "    df_feat['Amount_sqrt'] = np.sqrt(df_feat['Amount'])\n",
        "    df_feat['Amount_zscore'] = (df_feat['Amount'] - df_feat['Amount'].mean()) / df_feat['Amount'].std()\n",
        "    \n",
        "    # Features de interação\n",
        "    df_feat['V1_V2_interaction'] = df_feat['V1'] * df_feat['V2']\n",
        "    df_feat['Amount_V1_interaction'] = df_feat['Amount'] * df_feat['V1']\n",
        "    \n",
        "    # Features estatísticas das V features\n",
        "    v_cols = [f'V{i}' for i in range(1, 29)]\n",
        "    df_feat['V_sum'] = df_feat[v_cols].sum(axis=1)\n",
        "    df_feat['V_mean'] = df_feat[v_cols].mean(axis=1)\n",
        "    df_feat['V_std'] = df_feat[v_cols].std(axis=1)\n",
        "    df_feat['V_max'] = df_feat[v_cols].max(axis=1)\n",
        "    df_feat['V_min'] = df_feat[v_cols].min(axis=1)\n",
        "    \n",
        "    # Features temporais (simuladas)\n",
        "    df_feat['hour'] = df_feat['Time'] % 24\n",
        "    df_feat['day'] = df_feat['Time'] // 24\n",
        "    df_feat['is_weekend'] = (df_feat['day'] % 7).isin([5, 6]).astype(int)\n",
        "    \n",
        "    return df_feat\n",
        "\n",
        "# Aplicar features engineering\n",
        "df_enhanced = create_advanced_features(df)\n",
        "\n",
        "print(\"🔧 Features Engineering Aplicado:\")\n",
        "print(f\"• Features originais: {df.shape[1]}\")\n",
        "print(f\"• Features após engineering: {df_enhanced.shape[1]}\")\n",
        "print(f\"• Novas features: {df_enhanced.shape[1] - df.shape[1]}\")\n",
        "\n",
        "print(\"\\n📊 Novas features criadas:\")\n",
        "new_features = [col for col in df_enhanced.columns if col not in df.columns]\n",
        "for feat in new_features:\n",
        "    print(f\"• {feat}\")\n"
      ]
    }
  ],
  "metadata": {
    "kernelspec": {
      "display_name": ".venv",
      "language": "python",
      "name": "python3"
    },
    "language_info": {
      "codemirror_mode": {
        "name": "ipython",
        "version": 3
      },
      "file_extension": ".py",
      "mimetype": "text/x-python",
      "name": "python",
      "nbconvert_exporter": "python",
      "pygments_lexer": "ipython3",
      "version": "3.13.5"
    }
  },
  "nbformat": 4,
  "nbformat_minor": 2
}
